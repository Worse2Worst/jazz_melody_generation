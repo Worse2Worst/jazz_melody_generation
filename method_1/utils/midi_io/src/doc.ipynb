{
 "cells": [
  {
   "cell_type": "code",
   "execution_count": 1,
   "metadata": {},
   "outputs": [],
   "source": [
    "from core_midi import midi_parser\n",
    "from pprint import pprint"
   ]
  },
  {
   "cell_type": "code",
   "execution_count": 2,
   "metadata": {},
   "outputs": [
    {
     "name": "stdout",
     "output_type": "stream",
     "text": [
      "{'instruments': [Instrument(program=35, is_drum=False, name=\"Fingered Bass\"),\n",
      "                 Instrument(program=25, is_drum=False, name=\"Steel String\"),\n",
      "                 Instrument(program=27, is_drum=False, name=\"Steel String\"),\n",
      "                 Instrument(program=27, is_drum=False, name=\"Guitar/Solo\"),\n",
      "                 Instrument(program=0, is_drum=True, name=\"Hi Ride Cymbal\"),\n",
      "                 Instrument(program=0, is_drum=True, name=\"Snare, Bass Drums\"),\n",
      "                 Instrument(program=0, is_drum=True, name=\"Tamborine\"),\n",
      "                 Instrument(program=65, is_drum=False, name=\"Melody\"),\n",
      "                 Instrument(program=65, is_drum=False, name=\"Backup Melody\")],\n",
      " 'key_signature_changes': [KeySignature(key_name=G, key_number=7, time=0)],\n",
      " 'lyrics': [],\n",
      " 'max_tick': 25559,\n",
      " 'resample_ratio': 1.0,\n",
      " 'tempo_changes': [TempoChange(tempo=98.99993565004183, time=0)],\n",
      " 'tick_to_time': array([0.00000000e+00, 5.05050833e-03, 1.01010167e-02, ...,\n",
      "       1.29075841e+02, 1.29080892e+02, 1.29085942e+02]),\n",
      " 'ticks_per_beat': 120,\n",
      " 'ticks_per_beat_ori': 120,\n",
      " 'time_signature_changes': [TimeSignature(numerator=12, denominator=8, time=0),\n",
      "                            TimeSignature(numerator=6, denominator=8, time=4320),\n",
      "                            TimeSignature(numerator=12, denominator=8, time=4680),\n",
      "                            TimeSignature(numerator=6, denominator=8, time=9000),\n",
      "                            TimeSignature(numerator=12, denominator=8, time=9360),\n",
      "                            TimeSignature(numerator=6, denominator=8, time=20880),\n",
      "                            TimeSignature(numerator=12, denominator=8, time=21240)]}\n"
     ]
    }
   ],
   "source": [
    "# parse file\n",
    "midi_file = 'test_midi/test5.mid'\n",
    "midi = midi_parser.MidiFile(midi_file)\n",
    "\n",
    "# see the content\n",
    "pprint(vars(midi))\n",
    "ticks_per_beat = midi.ticks_per_beat_ori"
   ]
  },
  {
   "cell_type": "code",
   "execution_count": 3,
   "metadata": {},
   "outputs": [
    {
     "name": "stdout",
     "output_type": "stream",
     "text": [
      "\n",
      "<<< program >>>\n",
      "35\n",
      "\n",
      "<<< is_drum >>>\n",
      "False\n",
      "\n",
      "<<< name >>>\n",
      "Fingered Bass\n",
      "\n",
      "<<< notes >>>\n",
      "[Note(start=1281, end=1336, pitch=40, velocity=118),\n",
      " Note(start=1332, end=1390, pitch=42, velocity=117),\n",
      " Note(start=1393, end=1444, pitch=44, velocity=114),\n",
      " Note(start=1453, end=1607, pitch=45, velocity=118),\n",
      " Note(start=1623, end=1743, pitch=45, velocity=119),\n",
      " Note(start=1816, end=1985, pitch=40, velocity=109),\n",
      " Note(start=1986, end=2124, pitch=47, velocity=91),\n",
      " Note(start=2174, end=2348, pitch=38, velocity=109),\n",
      " Note(start=2349, end=2485, pitch=45, velocity=98),\n",
      " Note(start=2533, end=2640, pitch=40, velocity=109),\n",
      " Note(start=2761, end=2822, pitch=42, velocity=109),\n",
      " Note(start=2824, end=2885, pitch=44, velocity=109),\n",
      " Note(start=2891, end=3070, pitch=45, velocity=120),\n",
      " Note(start=3069, end=3246, pitch=38, velocity=120),\n",
      " Note(start=3251, end=3442, pitch=45, velocity=120),\n",
      " Note(start=3428, end=3480, pitch=40, velocity=109),\n",
      " Note(start=3484, end=3528, pitch=42, velocity=95),\n",
      " Note(start=3538, end=3578, pitch=44, velocity=109),\n",
      " Note(start=3604, end=3795, pitch=45, velocity=114),\n",
      " Note(start=3787, end=3961, pitch=40, velocity=104)]\n",
      "\n",
      "<<< pitch_bends >>>\n",
      "[]\n",
      "\n",
      "<<< control_changes >>>\n",
      "[ControlChange(number=7, value=120, time=0),\n",
      " ControlChange(number=10, value=64, time=0)]\n"
     ]
    }
   ],
   "source": [
    "# see the content of one specific instrument\n",
    "intru_info = vars(midi.instruments[0])\n",
    "for k, v in intru_info.items():\n",
    "    print('\\n<<< %s >>>'%k)\n",
    "    if isinstance(v, list):\n",
    "        pprint(v[:20])\n",
    "    else:\n",
    "        print(v)"
   ]
  },
  {
   "cell_type": "code",
   "execution_count": 4,
   "metadata": {},
   "outputs": [
    {
     "name": "stdout",
     "output_type": "stream",
     "text": [
      "\n",
      "<<< name >>>\n",
      "Fingered Bass\n",
      "\n",
      "<<< program >>>\n",
      "35\n",
      "\n",
      "<<< is_drum >>>\n",
      "False\n",
      "\n",
      "<<< notes >>>\n",
      "[{'duration': 55, 'pitch': 40, 'start': 1281},\n",
      " {'duration': 58, 'pitch': 42, 'start': 1332},\n",
      " {'duration': 51, 'pitch': 44, 'start': 1393},\n",
      " {'duration': 154, 'pitch': 45, 'start': 1453},\n",
      " {'duration': 120, 'pitch': 45, 'start': 1623},\n",
      " {'duration': 169, 'pitch': 40, 'start': 1816},\n",
      " {'duration': 138, 'pitch': 47, 'start': 1986},\n",
      " {'duration': 174, 'pitch': 38, 'start': 2174},\n",
      " {'duration': 136, 'pitch': 45, 'start': 2349},\n",
      " {'duration': 107, 'pitch': 40, 'start': 2533},\n",
      " {'duration': 61, 'pitch': 42, 'start': 2761},\n",
      " {'duration': 61, 'pitch': 44, 'start': 2824},\n",
      " {'duration': 179, 'pitch': 45, 'start': 2891},\n",
      " {'duration': 177, 'pitch': 38, 'start': 3069},\n",
      " {'duration': 191, 'pitch': 45, 'start': 3251},\n",
      " {'duration': 52, 'pitch': 40, 'start': 3428},\n",
      " {'duration': 44, 'pitch': 42, 'start': 3484},\n",
      " {'duration': 40, 'pitch': 44, 'start': 3538},\n",
      " {'duration': 191, 'pitch': 45, 'start': 3604},\n",
      " {'duration': 174, 'pitch': 40, 'start': 3787}]\n"
     ]
    }
   ],
   "source": [
    "# get duration\n",
    "instr = midi.instruments[0]\n",
    "n_proc = []\n",
    "for n in instr.notes:\n",
    "    duration = n.end - n.start\n",
    "    n_proc.append({\n",
    "        'pitch': n.pitch,\n",
    "        'start': n.start,\n",
    "        'duration': duration,        \n",
    "    })\n",
    "\n",
    "track_info = {\n",
    "    'name': instr.name,\n",
    "    'program': instr.program,\n",
    "    'is_drum': instr.is_drum,\n",
    "    'notes': n_proc,\n",
    "}\n",
    "\n",
    "# check\n",
    "for k, v in track_info.items():\n",
    "    print('\\n<<< %s >>>'%k)\n",
    "    if isinstance(v, list):\n",
    "        pprint(v[:20])\n",
    "    else:\n",
    "        print(v)"
   ]
  },
  {
   "cell_type": "code",
   "execution_count": 5,
   "metadata": {},
   "outputs": [
    {
     "data": {
      "text/plain": [
       "<Figure size 1280x960 with 1 Axes>"
      ]
     },
     "metadata": {},
     "output_type": "display_data"
    },
    {
     "name": "stdout",
     "output_type": "stream",
     "text": [
      "<TrackPianoroll Name='Fingered Bass'(program=35 is_drum=False) pianoroll_type='classical' size=1000x128 (time=3000~4000, pitch=30~55) note_off_policy=None timing_type='symbolic' with_velocity=True to_sparse=False at 0x1b97f2d0e80> \n",
      "\n",
      "\n"
     ]
    }
   ],
   "source": [
    "from midi2pianoroll import TrackPianoroll\n",
    "\n",
    "# visualization\n",
    "track = TrackPianoroll(midi.instruments[0], midi.max_tick, midi.ticks_per_beat, midi.tick_to_time)\n",
    "track.time_range = (3000, 4000)\n",
    "track._pitch_range = (30, 55)\n",
    "track.plot_pianoroll_midi('symbolic.png')\n",
    "\n",
    "# print track info\n",
    "print(track, '\\n\\n')"
   ]
  }
 ],
 "metadata": {
  "kernelspec": {
   "display_name": "Python 3",
   "language": "python",
   "name": "python3"
  },
  "language_info": {
   "codemirror_mode": {
    "name": "ipython",
    "version": 3
   },
   "file_extension": ".py",
   "mimetype": "text/x-python",
   "name": "python",
   "nbconvert_exporter": "python",
   "pygments_lexer": "ipython3",
   "version": "3.7.1"
  }
 },
 "nbformat": 4,
 "nbformat_minor": 2
}
